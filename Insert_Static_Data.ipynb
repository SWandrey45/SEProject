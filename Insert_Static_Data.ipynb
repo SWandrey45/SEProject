{
 "cells": [
  {
   "cell_type": "code",
   "execution_count": null,
   "metadata": {},
   "outputs": [],
   "source": [
    "import sqlalchemy as sqla\n",
    "from sqlalchemy import create_engine\n",
    "import traceback\n",
    "import glob\n",
    "import os\n",
    "from pprint import pprint\n",
    "import json\n",
    "import requests\n",
    "import time\n",
    "from IPython.display import display\n",
    "import mysql.connector\n",
    "\n",
    "URI = \"database-1.cx36tayg9smy.us-east-1.rds.amazonaws.com\"\n",
    "PORT = \"3306\"\n",
    "DB = \"SE_Project\"\n",
    "USER = \"admin\"\n",
    "PASSWORD = \"liamstacy\"\n",
    "\n",
    "engine = create_engine(\"mysql+mysqlconnector://{}:{}@{}:{}/{}\".format(USER, PASSWORD, URI, PORT, DB), echo=True)\n",
    "for res in engine.execute(\"SHOW VARIABLES;\"):\n",
    "    print(res)"
   ]
  }
 ],
 "metadata": {
  "kernelspec": {
   "display_name": "Python 3",
   "language": "python",
   "name": "python3"
  },
  "language_info": {
   "codemirror_mode": {
    "name": "ipython",
    "version": 3
   },
   "file_extension": ".py",
   "mimetype": "text/x-python",
   "name": "python",
   "nbconvert_exporter": "python",
   "pygments_lexer": "ipython3",
   "version": "3.7.4"
  }
 },
 "nbformat": 4,
 "nbformat_minor": 2
}
