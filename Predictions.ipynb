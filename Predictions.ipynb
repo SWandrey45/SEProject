{
 "cells": [
  {
   "cell_type": "markdown",
   "metadata": {},
   "source": [
    "Establishing a database connection and retrieving data from the BikeWeather table"
   ]
  },
  {
   "cell_type": "code",
   "execution_count": 52,
   "metadata": {},
   "outputs": [],
   "source": [
    "import pandas as pd\n",
    "import matplotlib.pyplot as plt\n",
    "import numpy as np\n",
    "import mysql.connector\n",
    "\n",
    "# Allows plots to appear directly in the notebook.\n",
    "%matplotlib inline\n",
    "\n",
    "from patsy import dmatrices\n",
    "from sklearn.linear_model import LinearRegression\n",
    "from sklearn.model_selection import train_test_split\n",
    "from sklearn import metrics\n",
    "from pandas import DataFrame\n",
    "\n",
    "#setting up a connection to the database\n",
    "mydb = mysql.connector.connect(\n",
    "    host=\"database-1.cx36tayg9smy.us-east-1.rds.amazonaws.com\",\n",
    "    user=\"admin\",\n",
    "    passwd=\"liamstacy\",\n",
    "    db='SE_Project',\n",
    ")\n",
    "\n",
    "df = pd.read_sql(\"\"\"SELECT number, name, description, available_bikes, available_bike_stands, weekday, hour_of_day, (case when description in (\"drizzle\", \"drizzle rain\", \"light intensity drizzle\", \"light intensity drizzle rain\", \"light intensity shower rain\", \"light rain\", \"mist\", \"moderate rain\", \"ragged shower rain\", \"shower rain\", \"shower sleet\") then 1 else 0 end) as rain, (case when description in (\"drizzle\", \"drizzle rain\", \"light intensity drizzle\", \"light intensity drizzle rain\", \"light intensity shower rain\", \"light rain\", \"mist\", \"moderate rain\", \"ragged shower rain\", \"shower rain\", \"shower sleet\") then 0 else 1 end) as no_rain   \n",
    "                    FROM SE_Project.BikeWeather2\n",
    "                    WHERE date_update < '2020-04-10';\"\"\", con=mydb)\n",
    "\n",
    "\n"
   ]
  },
  {
   "cell_type": "code",
   "execution_count": 46,
   "metadata": {},
   "outputs": [
    {
     "name": "stdout",
     "output_type": "stream",
     "text": [
      "2202288\n"
     ]
    },
    {
     "data": {
      "text/html": [
       "<div>\n",
       "<style scoped>\n",
       "    .dataframe tbody tr th:only-of-type {\n",
       "        vertical-align: middle;\n",
       "    }\n",
       "\n",
       "    .dataframe tbody tr th {\n",
       "        vertical-align: top;\n",
       "    }\n",
       "\n",
       "    .dataframe thead th {\n",
       "        text-align: right;\n",
       "    }\n",
       "</style>\n",
       "<table border=\"1\" class=\"dataframe\">\n",
       "  <thead>\n",
       "    <tr style=\"text-align: right;\">\n",
       "      <th></th>\n",
       "      <th>number</th>\n",
       "      <th>name</th>\n",
       "      <th>description</th>\n",
       "      <th>available_bikes</th>\n",
       "      <th>available_bike_stands</th>\n",
       "      <th>weekday</th>\n",
       "      <th>hour_of_day</th>\n",
       "      <th>rain</th>\n",
       "      <th>no_rain</th>\n",
       "    </tr>\n",
       "  </thead>\n",
       "  <tbody>\n",
       "    <tr>\n",
       "      <td>0</td>\n",
       "      <td>2</td>\n",
       "      <td>BLESSINGTON STREET</td>\n",
       "      <td>few clouds</td>\n",
       "      <td>0</td>\n",
       "      <td>20</td>\n",
       "      <td>2</td>\n",
       "      <td>16</td>\n",
       "      <td>0</td>\n",
       "      <td>1</td>\n",
       "    </tr>\n",
       "    <tr>\n",
       "      <td>1</td>\n",
       "      <td>2</td>\n",
       "      <td>BLESSINGTON STREET</td>\n",
       "      <td>few clouds</td>\n",
       "      <td>0</td>\n",
       "      <td>20</td>\n",
       "      <td>2</td>\n",
       "      <td>17</td>\n",
       "      <td>0</td>\n",
       "      <td>1</td>\n",
       "    </tr>\n",
       "    <tr>\n",
       "      <td>2</td>\n",
       "      <td>2</td>\n",
       "      <td>BLESSINGTON STREET</td>\n",
       "      <td>few clouds</td>\n",
       "      <td>0</td>\n",
       "      <td>20</td>\n",
       "      <td>2</td>\n",
       "      <td>17</td>\n",
       "      <td>0</td>\n",
       "      <td>1</td>\n",
       "    </tr>\n",
       "    <tr>\n",
       "      <td>3</td>\n",
       "      <td>2</td>\n",
       "      <td>BLESSINGTON STREET</td>\n",
       "      <td>few clouds</td>\n",
       "      <td>0</td>\n",
       "      <td>20</td>\n",
       "      <td>2</td>\n",
       "      <td>17</td>\n",
       "      <td>0</td>\n",
       "      <td>1</td>\n",
       "    </tr>\n",
       "    <tr>\n",
       "      <td>4</td>\n",
       "      <td>2</td>\n",
       "      <td>BLESSINGTON STREET</td>\n",
       "      <td>few clouds</td>\n",
       "      <td>2</td>\n",
       "      <td>18</td>\n",
       "      <td>2</td>\n",
       "      <td>17</td>\n",
       "      <td>0</td>\n",
       "      <td>1</td>\n",
       "    </tr>\n",
       "    <tr>\n",
       "      <td>5</td>\n",
       "      <td>2</td>\n",
       "      <td>BLESSINGTON STREET</td>\n",
       "      <td>few clouds</td>\n",
       "      <td>1</td>\n",
       "      <td>19</td>\n",
       "      <td>3</td>\n",
       "      <td>9</td>\n",
       "      <td>0</td>\n",
       "      <td>1</td>\n",
       "    </tr>\n",
       "    <tr>\n",
       "      <td>6</td>\n",
       "      <td>2</td>\n",
       "      <td>BLESSINGTON STREET</td>\n",
       "      <td>few clouds</td>\n",
       "      <td>0</td>\n",
       "      <td>20</td>\n",
       "      <td>3</td>\n",
       "      <td>9</td>\n",
       "      <td>0</td>\n",
       "      <td>1</td>\n",
       "    </tr>\n",
       "    <tr>\n",
       "      <td>7</td>\n",
       "      <td>2</td>\n",
       "      <td>BLESSINGTON STREET</td>\n",
       "      <td>few clouds</td>\n",
       "      <td>0</td>\n",
       "      <td>20</td>\n",
       "      <td>3</td>\n",
       "      <td>10</td>\n",
       "      <td>0</td>\n",
       "      <td>1</td>\n",
       "    </tr>\n",
       "    <tr>\n",
       "      <td>8</td>\n",
       "      <td>2</td>\n",
       "      <td>BLESSINGTON STREET</td>\n",
       "      <td>few clouds</td>\n",
       "      <td>0</td>\n",
       "      <td>20</td>\n",
       "      <td>3</td>\n",
       "      <td>10</td>\n",
       "      <td>0</td>\n",
       "      <td>1</td>\n",
       "    </tr>\n",
       "    <tr>\n",
       "      <td>9</td>\n",
       "      <td>2</td>\n",
       "      <td>BLESSINGTON STREET</td>\n",
       "      <td>few clouds</td>\n",
       "      <td>1</td>\n",
       "      <td>19</td>\n",
       "      <td>3</td>\n",
       "      <td>10</td>\n",
       "      <td>0</td>\n",
       "      <td>1</td>\n",
       "    </tr>\n",
       "  </tbody>\n",
       "</table>\n",
       "</div>"
      ],
      "text/plain": [
       "   number                name description  available_bikes  \\\n",
       "0       2  BLESSINGTON STREET  few clouds                0   \n",
       "1       2  BLESSINGTON STREET  few clouds                0   \n",
       "2       2  BLESSINGTON STREET  few clouds                0   \n",
       "3       2  BLESSINGTON STREET  few clouds                0   \n",
       "4       2  BLESSINGTON STREET  few clouds                2   \n",
       "5       2  BLESSINGTON STREET  few clouds                1   \n",
       "6       2  BLESSINGTON STREET  few clouds                0   \n",
       "7       2  BLESSINGTON STREET  few clouds                0   \n",
       "8       2  BLESSINGTON STREET  few clouds                0   \n",
       "9       2  BLESSINGTON STREET  few clouds                1   \n",
       "\n",
       "   available_bike_stands  weekday  hour_of_day  rain  no_rain  \n",
       "0                     20        2           16     0        1  \n",
       "1                     20        2           17     0        1  \n",
       "2                     20        2           17     0        1  \n",
       "3                     20        2           17     0        1  \n",
       "4                     18        2           17     0        1  \n",
       "5                     19        3            9     0        1  \n",
       "6                     20        3            9     0        1  \n",
       "7                     20        3           10     0        1  \n",
       "8                     20        3           10     0        1  \n",
       "9                     19        3           10     0        1  "
      ]
     },
     "execution_count": 46,
     "metadata": {},
     "output_type": "execute_result"
    }
   ],
   "source": [
    "print(len(df))\n",
    "df.head(10)"
   ]
  },
  {
   "cell_type": "code",
   "execution_count": 50,
   "metadata": {},
   "outputs": [
    {
     "data": {
      "text/plain": [
       "number                   0\n",
       "name                     0\n",
       "description              0\n",
       "available_bikes          0\n",
       "available_bike_stands    0\n",
       "weekday                  0\n",
       "hour_of_day              0\n",
       "rain                     0\n",
       "no_rain                  0\n",
       "dtype: int64"
      ]
     },
     "execution_count": 50,
     "metadata": {},
     "output_type": "execute_result"
    }
   ],
   "source": [
    "#Check for missing data\n",
    "df.isnull().sum()"
   ]
  },
  {
   "cell_type": "code",
   "execution_count": 51,
   "metadata": {},
   "outputs": [
    {
     "data": {
      "text/plain": [
       "number                    int64\n",
       "name                     object\n",
       "description              object\n",
       "available_bikes           int64\n",
       "available_bike_stands     int64\n",
       "weekday                   int64\n",
       "hour_of_day               int64\n",
       "rain                      int64\n",
       "no_rain                   int64\n",
       "dtype: object"
      ]
     },
     "execution_count": 51,
     "metadata": {},
     "output_type": "execute_result"
    }
   ],
   "source": [
    "df.dtypes"
   ]
  },
  {
   "cell_type": "code",
   "execution_count": 47,
   "metadata": {},
   "outputs": [
    {
     "data": {
      "text/plain": [
       "11.498141932390315"
      ]
     },
     "execution_count": 47,
     "metadata": {},
     "output_type": "execute_result"
    }
   ],
   "source": [
    "df.available_bikes.mean()"
   ]
  },
  {
   "cell_type": "code",
   "execution_count": 49,
   "metadata": {},
   "outputs": [
    {
     "data": {
      "text/html": [
       "<div>\n",
       "<style scoped>\n",
       "    .dataframe tbody tr th:only-of-type {\n",
       "        vertical-align: middle;\n",
       "    }\n",
       "\n",
       "    .dataframe tbody tr th {\n",
       "        vertical-align: top;\n",
       "    }\n",
       "\n",
       "    .dataframe thead th {\n",
       "        text-align: right;\n",
       "    }\n",
       "</style>\n",
       "<table border=\"1\" class=\"dataframe\">\n",
       "  <thead>\n",
       "    <tr style=\"text-align: right;\">\n",
       "      <th></th>\n",
       "      <th>count</th>\n",
       "      <th>mean</th>\n",
       "      <th>std</th>\n",
       "      <th>min</th>\n",
       "      <th>25%</th>\n",
       "      <th>50%</th>\n",
       "      <th>75%</th>\n",
       "      <th>max</th>\n",
       "    </tr>\n",
       "  </thead>\n",
       "  <tbody>\n",
       "    <tr>\n",
       "      <td>number</td>\n",
       "      <td>2202288.0</td>\n",
       "      <td>60.517106</td>\n",
       "      <td>33.767496</td>\n",
       "      <td>2.0</td>\n",
       "      <td>31.0</td>\n",
       "      <td>61.0</td>\n",
       "      <td>90.0</td>\n",
       "      <td>117.0</td>\n",
       "    </tr>\n",
       "    <tr>\n",
       "      <td>available_bikes</td>\n",
       "      <td>2202288.0</td>\n",
       "      <td>11.498142</td>\n",
       "      <td>7.822433</td>\n",
       "      <td>0.0</td>\n",
       "      <td>6.0</td>\n",
       "      <td>11.0</td>\n",
       "      <td>16.0</td>\n",
       "      <td>40.0</td>\n",
       "    </tr>\n",
       "    <tr>\n",
       "      <td>available_bike_stands</td>\n",
       "      <td>2202288.0</td>\n",
       "      <td>20.626762</td>\n",
       "      <td>9.780597</td>\n",
       "      <td>0.0</td>\n",
       "      <td>13.0</td>\n",
       "      <td>20.0</td>\n",
       "      <td>28.0</td>\n",
       "      <td>40.0</td>\n",
       "    </tr>\n",
       "    <tr>\n",
       "      <td>weekday</td>\n",
       "      <td>2202288.0</td>\n",
       "      <td>3.037935</td>\n",
       "      <td>1.977035</td>\n",
       "      <td>0.0</td>\n",
       "      <td>1.0</td>\n",
       "      <td>3.0</td>\n",
       "      <td>5.0</td>\n",
       "      <td>6.0</td>\n",
       "    </tr>\n",
       "    <tr>\n",
       "      <td>hour_of_day</td>\n",
       "      <td>2202288.0</td>\n",
       "      <td>11.623759</td>\n",
       "      <td>6.896978</td>\n",
       "      <td>0.0</td>\n",
       "      <td>6.0</td>\n",
       "      <td>12.0</td>\n",
       "      <td>18.0</td>\n",
       "      <td>23.0</td>\n",
       "    </tr>\n",
       "    <tr>\n",
       "      <td>rain</td>\n",
       "      <td>2202288.0</td>\n",
       "      <td>0.164185</td>\n",
       "      <td>0.370444</td>\n",
       "      <td>0.0</td>\n",
       "      <td>0.0</td>\n",
       "      <td>0.0</td>\n",
       "      <td>0.0</td>\n",
       "      <td>1.0</td>\n",
       "    </tr>\n",
       "    <tr>\n",
       "      <td>no_rain</td>\n",
       "      <td>2202288.0</td>\n",
       "      <td>0.835815</td>\n",
       "      <td>0.370444</td>\n",
       "      <td>0.0</td>\n",
       "      <td>1.0</td>\n",
       "      <td>1.0</td>\n",
       "      <td>1.0</td>\n",
       "      <td>1.0</td>\n",
       "    </tr>\n",
       "  </tbody>\n",
       "</table>\n",
       "</div>"
      ],
      "text/plain": [
       "                           count       mean        std  min   25%   50%   75%  \\\n",
       "number                 2202288.0  60.517106  33.767496  2.0  31.0  61.0  90.0   \n",
       "available_bikes        2202288.0  11.498142   7.822433  0.0   6.0  11.0  16.0   \n",
       "available_bike_stands  2202288.0  20.626762   9.780597  0.0  13.0  20.0  28.0   \n",
       "weekday                2202288.0   3.037935   1.977035  0.0   1.0   3.0   5.0   \n",
       "hour_of_day            2202288.0  11.623759   6.896978  0.0   6.0  12.0  18.0   \n",
       "rain                   2202288.0   0.164185   0.370444  0.0   0.0   0.0   0.0   \n",
       "no_rain                2202288.0   0.835815   0.370444  0.0   1.0   1.0   1.0   \n",
       "\n",
       "                         max  \n",
       "number                 117.0  \n",
       "available_bikes         40.0  \n",
       "available_bike_stands   40.0  \n",
       "weekday                  6.0  \n",
       "hour_of_day             23.0  \n",
       "rain                     1.0  \n",
       "no_rain                  1.0  "
      ]
     },
     "execution_count": 49,
     "metadata": {},
     "output_type": "execute_result"
    }
   ],
   "source": [
    "df.describe().T"
   ]
  },
  {
   "cell_type": "code",
   "execution_count": 48,
   "metadata": {},
   "outputs": [
    {
     "data": {
      "text/html": [
       "<div>\n",
       "<style scoped>\n",
       "    .dataframe tbody tr th:only-of-type {\n",
       "        vertical-align: middle;\n",
       "    }\n",
       "\n",
       "    .dataframe tbody tr th {\n",
       "        vertical-align: top;\n",
       "    }\n",
       "\n",
       "    .dataframe thead th {\n",
       "        text-align: right;\n",
       "    }\n",
       "</style>\n",
       "<table border=\"1\" class=\"dataframe\">\n",
       "  <thead>\n",
       "    <tr style=\"text-align: right;\">\n",
       "      <th></th>\n",
       "      <th>available_bikes</th>\n",
       "      <th>rain</th>\n",
       "      <th>no_rain</th>\n",
       "    </tr>\n",
       "  </thead>\n",
       "  <tbody>\n",
       "    <tr>\n",
       "      <td>available_bikes</td>\n",
       "      <td>1.000000</td>\n",
       "      <td>0.000826</td>\n",
       "      <td>-0.000826</td>\n",
       "    </tr>\n",
       "    <tr>\n",
       "      <td>rain</td>\n",
       "      <td>0.000826</td>\n",
       "      <td>1.000000</td>\n",
       "      <td>-1.000000</td>\n",
       "    </tr>\n",
       "    <tr>\n",
       "      <td>no_rain</td>\n",
       "      <td>-0.000826</td>\n",
       "      <td>-1.000000</td>\n",
       "      <td>1.000000</td>\n",
       "    </tr>\n",
       "  </tbody>\n",
       "</table>\n",
       "</div>"
      ],
      "text/plain": [
       "                 available_bikes      rain   no_rain\n",
       "available_bikes         1.000000  0.000826 -0.000826\n",
       "rain                    0.000826  1.000000 -1.000000\n",
       "no_rain                -0.000826 -1.000000  1.000000"
      ]
     },
     "execution_count": 48,
     "metadata": {},
     "output_type": "execute_result"
    }
   ],
   "source": [
    "# Look at correlations\n",
    "df[['available_bikes', 'rain', 'no_rain']].corr()"
   ]
  },
  {
   "cell_type": "markdown",
   "metadata": {},
   "source": [
    "As can be seen from the correlation matrix there is a very small correlation between available bikes and rain. There are more bikes available when it's raining which would be expected."
   ]
  },
  {
   "cell_type": "code",
   "execution_count": 64,
   "metadata": {},
   "outputs": [
    {
     "name": "stdout",
     "output_type": "stream",
     "text": [
      "   number\n",
      "0       2\n",
      "1       3\n",
      "2       4\n",
      "3       5\n",
      "4       6\n",
      "5       7\n",
      "6       8\n",
      "7       9\n",
      "8      10\n",
      "9      11\n",
      "[0, 1, 2, 3, 4, 5, 6, 7, 8, 9, 10, 11, 12, 13, 14, 15, 16, 17, 18, 19, 20, 21, 22, 23]\n"
     ]
    }
   ],
   "source": [
    "#Get stations and hours\n",
    "\n",
    "df_stations = pd.read_sql(\"\"\"SELECT number FROM SE_Project.station order by number ;\"\"\", con=mydb)\n",
    "\n",
    "\n",
    "hours = []\n",
    "for i in range(0,24):\n",
    "    hours.append(i)\n",
    "\n",
    "print(df_stations.head(10))\n",
    "print(hours)\n"
   ]
  },
  {
   "cell_type": "markdown",
   "metadata": {},
   "source": [
    "### Base case is when data is split by station and by hour"
   ]
  },
  {
   "cell_type": "code",
   "execution_count": 72,
   "metadata": {},
   "outputs": [],
   "source": [
    "#for each station, calculate the mean square error and rmse when data is split by hour\n",
    "#Test data should be used here which is data after 10/04/2020\n",
    "\n",
    "#create an empty list to hold the\n",
    "errors = []\n",
    "\n",
    "for index, row in df_stations.iterrows():\n",
    "    number = row[\"number\"]\n",
    "    for i in hours:\n",
    "        error_squared = ((df[df.number.eq(number) & df.hour_of_day.eq(i)].available_bikes - df[df.number.eq(number) & df.hour_of_day.eq(i)].available_bikes.mean())** 2).sum()\n",
    "        tested = len(df[df.number.eq(number) & df.hour_of_day.eq(i)].available_bikes)\n",
    "        errors.append([number, i, tested, error_squared])\n",
    "       \n",
    "        "
   ]
  },
  {
   "cell_type": "code",
   "execution_count": 74,
   "metadata": {},
   "outputs": [
    {
     "data": {
      "text/plain": [
       "[2, 0, 812, 21601.02463054187]"
      ]
     },
     "execution_count": 74,
     "metadata": {},
     "output_type": "execute_result"
    }
   ],
   "source": [
    "errors[0]"
   ]
  },
  {
   "cell_type": "code",
   "execution_count": 75,
   "metadata": {},
   "outputs": [],
   "source": [
    "# calculate the total mse and rmse for each station for this model\n",
    "mse = []\n",
    "\n",
    "for index, row in df_stations.iterrows():\n",
    "    number = row[\"number\"]\n",
    "    mean_squared_error = 0\n",
    "    count = 0\n",
    "    for e in errors:\n",
    "        if e[0] == number:\n",
    "            mean_squared_error += e[3]\n",
    "            count += e[2]\n",
    "    mse.append([number, mean_squared_error/count,(mean_squared_error/count)** 0.5])\n",
    "    "
   ]
  },
  {
   "cell_type": "markdown",
   "metadata": {},
   "source": [
    "### Now split by station, day of the week and hour of the day"
   ]
  },
  {
   "cell_type": "code",
   "execution_count": null,
   "metadata": {},
   "outputs": [],
   "source": [
    "weekdays = [0, 1, 2, 3, 4, 5, 6]\n",
    "errors = []\n",
    "\n",
    "for index, row in df_stations.iterrows():\n",
    "    number = row[\"number\"]\n",
    "    for i in hours:\n",
    "        for w in weekdays:\n",
    "            error_squared = ((df[df.number.eq(number) & df.hour_of_day.eq(i) & df.weekday.eq(w)].available_bikes - df[df.number.eq(number) & df.hour_of_day.eq(i) & df.weekday.eq(w)].available_bikes.mean())** 2).sum()\n",
    "            tested = len(df[df.number.eq(number) & df.hour_of_day.eq(i) & df.weekday.eq(w)].available_bikes)\n",
    "            errors.append([number, i, tested, error_squared])"
   ]
  },
  {
   "cell_type": "markdown",
   "metadata": {},
   "source": [
    "Ideally this would have been run on a sample of the data instead of all of it but I ran out of time"
   ]
  },
  {
   "cell_type": "markdown",
   "metadata": {},
   "source": [
    "### Now split by station, day of the week and hour of the day and investigate linear regression, ploting available bikes vs raining indicator"
   ]
  },
  {
   "cell_type": "code",
   "execution_count": null,
   "metadata": {},
   "outputs": [],
   "source": [
    "weekdays = [0, 1, 2, 3, 4, 5, 6]\n",
    "errors = []\n",
    "\n",
    "for index, row in df_stations.iterrows():\n",
    "    number = row[\"number\"]\n",
    "    for i in hours:\n",
    "        for w in weekdays:\n",
    "            x = [['rain']]\n",
    "            y = df[df.number.eq(number) & df.hour_of_day.eq(i) & df.weekday.eq(w)].available_bikes \n",
    "            linreg = LinearRegression().fit(x[\"rain\"], y)\n",
    "            linreg_predictions = linreg.predict(x[\"rain\"])\n",
    "            mean_squared_error = ((y - linreg_predictions)** 2).mean()\n",
    "            rmse = mean_squared_error** 0.5"
   ]
  }
 ],
 "metadata": {
  "kernelspec": {
   "display_name": "Python 3",
   "language": "python",
   "name": "python3"
  }
 },
 "nbformat": 4,
 "nbformat_minor": 2
}
